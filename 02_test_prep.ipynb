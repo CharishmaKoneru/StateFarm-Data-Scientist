{
 "cells": [
  {
   "cell_type": "code",
   "execution_count": 9,
   "metadata": {},
   "outputs": [],
   "source": [
    "from sklearn.preprocessing import OneHotEncoder, LabelEncoder, StandardScaler\n",
    "from sklearn.experimental import enable_iterative_imputer  # noqa\n",
    "# now you can import normally from sklearn.impute\n",
    "from sklearn.impute import IterativeImputer\n",
    "import pandas as pd\n",
    "import numpy as np\n",
    "import pickle"
   ]
  },
  {
   "cell_type": "code",
   "execution_count": 10,
   "metadata": {},
   "outputs": [],
   "source": [
    "#Read csv\n",
    "raw_df = pd.read_csv('exercise_20_test.csv')"
   ]
  },
  {
   "cell_type": "code",
   "execution_count": 11,
   "metadata": {},
   "outputs": [],
   "source": [
    "#Seperate categorical variables\n",
    "category_df = raw_df.loc[:,raw_df.dtypes == np.object]\n"
   ]
  },
  {
   "cell_type": "code",
   "execution_count": 12,
   "metadata": {},
   "outputs": [],
   "source": [
    "#Seperate numerical variables\n",
    "num_df = raw_df.loc[:,raw_df.dtypes == np.float64]"
   ]
  },
  {
   "cell_type": "code",
   "execution_count": 13,
   "metadata": {},
   "outputs": [],
   "source": [
    "#Open models\n",
    "with open('imp', 'rb') as i:\n",
    "    imp = pickle.load(i)\n",
    "    \n",
    "with open('le_dict', 'rb') as l:\n",
    "    le_dict = pickle.load(l)\n",
    "    \n",
    "with open('enc', 'rb') as e:\n",
    "    enc = pickle.load(e)\n",
    "\n",
    "with open('scalar', 'rb') as s:\n",
    "    scalar = pickle.load(s)"
   ]
  },
  {
   "cell_type": "code",
   "execution_count": 14,
   "metadata": {},
   "outputs": [],
   "source": [
    "\n",
    "#convert categorical vars ($,%) to numeric\n",
    "category_df['x41'] = category_df['x41'].str.replace('$','').astype(float)\n",
    "category_df['x45'] = category_df['x45'].str.replace('%','').astype(float)\n",
    "\n",
    "#add converted vars to numeric df\n",
    "num_df['x41'] = category_df['x41']\n",
    "num_df['x45'] = category_df['x45']\n",
    "category_df.drop(['x41','x45'],axis = 1, inplace = True)\n",
    "\n",
    "#create mask to align same categories with different names\n",
    "day_mask1 = category_df['x35'] == 'wednesday'\n",
    "day_mask2 = category_df['x35'] == 'fri'\n",
    "day_mask3 = category_df['x35']  == 'thur'\n",
    "\n",
    "#align names\n",
    "category_df['x35'][day_mask1] = 'wed'\n",
    "category_df['x35'][day_mask2] = 'friday'\n",
    "category_df['x35'][day_mask3] = 'thurday'\n",
    "\n",
    "#perform inductive, single imputation with numerical df\n",
    "#NOTE: Will not attempt multiple imputation\n",
    "imp_num_df = pd.DataFrame(imp.transform(num_df))\n",
    "imp_num_df.index = num_df.index\n",
    "imp_num_df.columns = num_df.columns"
   ]
  },
  {
   "cell_type": "code",
   "execution_count": 15,
   "metadata": {},
   "outputs": [],
   "source": [
    "#impute missing categorical vars as most frequent in category\n",
    "for col in category_df:\n",
    "    max_freq = category_df[col].value_counts().index[0]\n",
    "    category_df[col][pd.isna(category_df[col])] = max_freq"
   ]
  },
  {
   "cell_type": "code",
   "execution_count": 16,
   "metadata": {},
   "outputs": [],
   "source": [
    "#convert categories into nominal integers\n",
    "label_df = pd.DataFrame()\n",
    "for col in category_df:\n",
    "    le = le_dict[col]\n",
    "    label_df[col] = le.transform(category_df[col])"
   ]
  },
  {
   "cell_type": "code",
   "execution_count": 17,
   "metadata": {},
   "outputs": [],
   "source": [
    "#create df of binary cols representing instance of each category across multipile columns\n",
    "onehot_df = pd.DataFrame(enc.transform(label_df).toarray())\n",
    "#feature_names = enc.get_feature_names()\n",
    "#onehot_df.columns = feature_names"
   ]
  },
  {
   "cell_type": "code",
   "execution_count": 18,
   "metadata": {},
   "outputs": [],
   "source": [
    "scaled_num_df = pd.DataFrame(scalar.transform(imp_num_df))"
   ]
  },
  {
   "cell_type": "code",
   "execution_count": 19,
   "metadata": {},
   "outputs": [],
   "source": [
    "x_df = pd.concat([scaled_num_df, onehot_df], axis = 1)"
   ]
  },
  {
   "cell_type": "code",
   "execution_count": 20,
   "metadata": {},
   "outputs": [],
   "source": [
    "#save x vars\n",
    "with open('x_df_test', 'wb') as x:\n",
    "    pickle.dump(x_df, x, pickle.HIGHEST_PROTOCOL)\n"
   ]
  },
  {
   "cell_type": "code",
   "execution_count": null,
   "metadata": {},
   "outputs": [],
   "source": []
  },
  {
   "cell_type": "code",
   "execution_count": null,
   "metadata": {},
   "outputs": [],
   "source": []
  }
 ],
 "metadata": {
  "kernelspec": {
   "display_name": "Python 3",
   "language": "python",
   "name": "python3"
  },
  "language_info": {
   "codemirror_mode": {
    "name": "ipython",
    "version": 3
   },
   "file_extension": ".py",
   "mimetype": "text/x-python",
   "name": "python",
   "nbconvert_exporter": "python",
   "pygments_lexer": "ipython3",
   "version": "3.7.4"
  }
 },
 "nbformat": 4,
 "nbformat_minor": 2
}
